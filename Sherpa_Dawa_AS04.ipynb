{
  "cells": [
    {
      "cell_type": "markdown",
      "metadata": {
        "id": "LgaqLypMt1HP"
      },
      "source": [
        "<a href=\"https://colab.research.google.com/github/Dawa1022/CSC-44800/blob/main/Sherpa_Dawa_AS04.ipynb\" target=\"_parent\"><img src=\"https://colab.research.google.com/assets/colab-badge.svg\" alt=\"Open In Colab\"/></a>"
      ]
    },
    {
      "cell_type": "code",
      "execution_count": null,
      "metadata": {
        "id": "0Pg3AwJft1HQ"
      },
      "outputs": [],
      "source": [
        "# Imports and pip installations\n",
        "from sklearn.datasets import load_iris\n",
        "from sklearn.model_selection import train_test_split\n",
        "\n",
        "from sklearn.linear_model import LogisticRegression\n",
        "from sklearn.svm import SVC\n",
        "from sklearn.neural_network import MLPClassifier\n",
        "from sklearn.neighbors import KNeighborsClassifier\n",
        "\n",
        "import pandas as pd\n",
        "import numpy as np"
      ]
    },
    {
      "cell_type": "markdown",
      "metadata": {
        "id": "UZAOaxzwt1HQ"
      },
      "source": [
        "## Part 1. Loading the dataset"
      ]
    },
    {
      "cell_type": "code",
      "execution_count": null,
      "metadata": {
        "id": "q3QLDEzLt1HQ",
        "outputId": "4800aa58-d56f-4f08-e13e-29f57fb785dc"
      },
      "outputs": [
        {
          "data": {
            "text/html": [
              "<div>\n",
              "<style scoped>\n",
              "    .dataframe tbody tr th:only-of-type {\n",
              "        vertical-align: middle;\n",
              "    }\n",
              "\n",
              "    .dataframe tbody tr th {\n",
              "        vertical-align: top;\n",
              "    }\n",
              "\n",
              "    .dataframe thead th {\n",
              "        text-align: right;\n",
              "    }\n",
              "</style>\n",
              "<table border=\"1\" class=\"dataframe\">\n",
              "  <thead>\n",
              "    <tr style=\"text-align: right;\">\n",
              "      <th></th>\n",
              "      <th>sepal length (cm)</th>\n",
              "      <th>sepal width (cm)</th>\n",
              "      <th>petal length (cm)</th>\n",
              "      <th>petal width (cm)</th>\n",
              "      <th>target</th>\n",
              "    </tr>\n",
              "  </thead>\n",
              "  <tbody>\n",
              "    <tr>\n",
              "      <th>0</th>\n",
              "      <td>5.1</td>\n",
              "      <td>3.5</td>\n",
              "      <td>1.4</td>\n",
              "      <td>0.2</td>\n",
              "      <td>0</td>\n",
              "    </tr>\n",
              "    <tr>\n",
              "      <th>1</th>\n",
              "      <td>4.9</td>\n",
              "      <td>3.0</td>\n",
              "      <td>1.4</td>\n",
              "      <td>0.2</td>\n",
              "      <td>0</td>\n",
              "    </tr>\n",
              "    <tr>\n",
              "      <th>2</th>\n",
              "      <td>4.7</td>\n",
              "      <td>3.2</td>\n",
              "      <td>1.3</td>\n",
              "      <td>0.2</td>\n",
              "      <td>0</td>\n",
              "    </tr>\n",
              "    <tr>\n",
              "      <th>3</th>\n",
              "      <td>4.6</td>\n",
              "      <td>3.1</td>\n",
              "      <td>1.5</td>\n",
              "      <td>0.2</td>\n",
              "      <td>0</td>\n",
              "    </tr>\n",
              "    <tr>\n",
              "      <th>4</th>\n",
              "      <td>5.0</td>\n",
              "      <td>3.6</td>\n",
              "      <td>1.4</td>\n",
              "      <td>0.2</td>\n",
              "      <td>0</td>\n",
              "    </tr>\n",
              "    <tr>\n",
              "      <th>5</th>\n",
              "      <td>5.4</td>\n",
              "      <td>3.9</td>\n",
              "      <td>1.7</td>\n",
              "      <td>0.4</td>\n",
              "      <td>0</td>\n",
              "    </tr>\n",
              "    <tr>\n",
              "      <th>6</th>\n",
              "      <td>4.6</td>\n",
              "      <td>3.4</td>\n",
              "      <td>1.4</td>\n",
              "      <td>0.3</td>\n",
              "      <td>0</td>\n",
              "    </tr>\n",
              "    <tr>\n",
              "      <th>7</th>\n",
              "      <td>5.0</td>\n",
              "      <td>3.4</td>\n",
              "      <td>1.5</td>\n",
              "      <td>0.2</td>\n",
              "      <td>0</td>\n",
              "    </tr>\n",
              "    <tr>\n",
              "      <th>8</th>\n",
              "      <td>4.4</td>\n",
              "      <td>2.9</td>\n",
              "      <td>1.4</td>\n",
              "      <td>0.2</td>\n",
              "      <td>0</td>\n",
              "    </tr>\n",
              "    <tr>\n",
              "      <th>9</th>\n",
              "      <td>4.9</td>\n",
              "      <td>3.1</td>\n",
              "      <td>1.5</td>\n",
              "      <td>0.1</td>\n",
              "      <td>0</td>\n",
              "    </tr>\n",
              "    <tr>\n",
              "      <th>10</th>\n",
              "      <td>5.4</td>\n",
              "      <td>3.7</td>\n",
              "      <td>1.5</td>\n",
              "      <td>0.2</td>\n",
              "      <td>0</td>\n",
              "    </tr>\n",
              "    <tr>\n",
              "      <th>11</th>\n",
              "      <td>4.8</td>\n",
              "      <td>3.4</td>\n",
              "      <td>1.6</td>\n",
              "      <td>0.2</td>\n",
              "      <td>0</td>\n",
              "    </tr>\n",
              "    <tr>\n",
              "      <th>12</th>\n",
              "      <td>4.8</td>\n",
              "      <td>3.0</td>\n",
              "      <td>1.4</td>\n",
              "      <td>0.1</td>\n",
              "      <td>0</td>\n",
              "    </tr>\n",
              "    <tr>\n",
              "      <th>13</th>\n",
              "      <td>4.3</td>\n",
              "      <td>3.0</td>\n",
              "      <td>1.1</td>\n",
              "      <td>0.1</td>\n",
              "      <td>0</td>\n",
              "    </tr>\n",
              "    <tr>\n",
              "      <th>14</th>\n",
              "      <td>5.8</td>\n",
              "      <td>4.0</td>\n",
              "      <td>1.2</td>\n",
              "      <td>0.2</td>\n",
              "      <td>0</td>\n",
              "    </tr>\n",
              "  </tbody>\n",
              "</table>\n",
              "</div>"
            ],
            "text/plain": [
              "    sepal length (cm)  sepal width (cm)  petal length (cm)  petal width (cm)  \\\n",
              "0                 5.1               3.5                1.4               0.2   \n",
              "1                 4.9               3.0                1.4               0.2   \n",
              "2                 4.7               3.2                1.3               0.2   \n",
              "3                 4.6               3.1                1.5               0.2   \n",
              "4                 5.0               3.6                1.4               0.2   \n",
              "5                 5.4               3.9                1.7               0.4   \n",
              "6                 4.6               3.4                1.4               0.3   \n",
              "7                 5.0               3.4                1.5               0.2   \n",
              "8                 4.4               2.9                1.4               0.2   \n",
              "9                 4.9               3.1                1.5               0.1   \n",
              "10                5.4               3.7                1.5               0.2   \n",
              "11                4.8               3.4                1.6               0.2   \n",
              "12                4.8               3.0                1.4               0.1   \n",
              "13                4.3               3.0                1.1               0.1   \n",
              "14                5.8               4.0                1.2               0.2   \n",
              "\n",
              "    target  \n",
              "0        0  \n",
              "1        0  \n",
              "2        0  \n",
              "3        0  \n",
              "4        0  \n",
              "5        0  \n",
              "6        0  \n",
              "7        0  \n",
              "8        0  \n",
              "9        0  \n",
              "10       0  \n",
              "11       0  \n",
              "12       0  \n",
              "13       0  \n",
              "14       0  "
            ]
          },
          "execution_count": 17,
          "metadata": {},
          "output_type": "execute_result"
        }
      ],
      "source": [
        "data = load_iris()\n",
        "df = pd.DataFrame(data=data.data, columns=data.feature_names)\n",
        "df[\"target\"] = data.target\n",
        "\n",
        "df.head(15)"
      ]
    },
    {
      "cell_type": "code",
      "execution_count": null,
      "metadata": {
        "id": "SYOMLN-qt1HQ",
        "outputId": "3fce22ef-8fe0-4a00-c7eb-5015354dad88"
      },
      "outputs": [
        {
          "name": "stdout",
          "output_type": "stream",
          "text": [
            "<class 'pandas.core.frame.DataFrame'>\n",
            "RangeIndex: 150 entries, 0 to 149\n",
            "Data columns (total 5 columns):\n",
            " #   Column             Non-Null Count  Dtype  \n",
            "---  ------             --------------  -----  \n",
            " 0   sepal length (cm)  150 non-null    float64\n",
            " 1   sepal width (cm)   150 non-null    float64\n",
            " 2   petal length (cm)  150 non-null    float64\n",
            " 3   petal width (cm)   150 non-null    float64\n",
            " 4   target             150 non-null    int64  \n",
            "dtypes: float64(4), int64(1)\n",
            "memory usage: 6.0 KB\n"
          ]
        },
        {
          "data": {
            "text/html": [
              "<div>\n",
              "<style scoped>\n",
              "    .dataframe tbody tr th:only-of-type {\n",
              "        vertical-align: middle;\n",
              "    }\n",
              "\n",
              "    .dataframe tbody tr th {\n",
              "        vertical-align: top;\n",
              "    }\n",
              "\n",
              "    .dataframe thead th {\n",
              "        text-align: right;\n",
              "    }\n",
              "</style>\n",
              "<table border=\"1\" class=\"dataframe\">\n",
              "  <thead>\n",
              "    <tr style=\"text-align: right;\">\n",
              "      <th></th>\n",
              "      <th>sepal length (cm)</th>\n",
              "      <th>sepal width (cm)</th>\n",
              "      <th>petal length (cm)</th>\n",
              "      <th>petal width (cm)</th>\n",
              "      <th>target</th>\n",
              "    </tr>\n",
              "  </thead>\n",
              "  <tbody>\n",
              "    <tr>\n",
              "      <th>count</th>\n",
              "      <td>150.000000</td>\n",
              "      <td>150.000000</td>\n",
              "      <td>150.000000</td>\n",
              "      <td>150.000000</td>\n",
              "      <td>150.000000</td>\n",
              "    </tr>\n",
              "    <tr>\n",
              "      <th>mean</th>\n",
              "      <td>5.843333</td>\n",
              "      <td>3.057333</td>\n",
              "      <td>3.758000</td>\n",
              "      <td>1.199333</td>\n",
              "      <td>1.000000</td>\n",
              "    </tr>\n",
              "    <tr>\n",
              "      <th>std</th>\n",
              "      <td>0.828066</td>\n",
              "      <td>0.435866</td>\n",
              "      <td>1.765298</td>\n",
              "      <td>0.762238</td>\n",
              "      <td>0.819232</td>\n",
              "    </tr>\n",
              "    <tr>\n",
              "      <th>min</th>\n",
              "      <td>4.300000</td>\n",
              "      <td>2.000000</td>\n",
              "      <td>1.000000</td>\n",
              "      <td>0.100000</td>\n",
              "      <td>0.000000</td>\n",
              "    </tr>\n",
              "    <tr>\n",
              "      <th>25%</th>\n",
              "      <td>5.100000</td>\n",
              "      <td>2.800000</td>\n",
              "      <td>1.600000</td>\n",
              "      <td>0.300000</td>\n",
              "      <td>0.000000</td>\n",
              "    </tr>\n",
              "    <tr>\n",
              "      <th>50%</th>\n",
              "      <td>5.800000</td>\n",
              "      <td>3.000000</td>\n",
              "      <td>4.350000</td>\n",
              "      <td>1.300000</td>\n",
              "      <td>1.000000</td>\n",
              "    </tr>\n",
              "    <tr>\n",
              "      <th>75%</th>\n",
              "      <td>6.400000</td>\n",
              "      <td>3.300000</td>\n",
              "      <td>5.100000</td>\n",
              "      <td>1.800000</td>\n",
              "      <td>2.000000</td>\n",
              "    </tr>\n",
              "    <tr>\n",
              "      <th>max</th>\n",
              "      <td>7.900000</td>\n",
              "      <td>4.400000</td>\n",
              "      <td>6.900000</td>\n",
              "      <td>2.500000</td>\n",
              "      <td>2.000000</td>\n",
              "    </tr>\n",
              "  </tbody>\n",
              "</table>\n",
              "</div>"
            ],
            "text/plain": [
              "       sepal length (cm)  sepal width (cm)  petal length (cm)  \\\n",
              "count         150.000000        150.000000         150.000000   \n",
              "mean            5.843333          3.057333           3.758000   \n",
              "std             0.828066          0.435866           1.765298   \n",
              "min             4.300000          2.000000           1.000000   \n",
              "25%             5.100000          2.800000           1.600000   \n",
              "50%             5.800000          3.000000           4.350000   \n",
              "75%             6.400000          3.300000           5.100000   \n",
              "max             7.900000          4.400000           6.900000   \n",
              "\n",
              "       petal width (cm)      target  \n",
              "count        150.000000  150.000000  \n",
              "mean           1.199333    1.000000  \n",
              "std            0.762238    0.819232  \n",
              "min            0.100000    0.000000  \n",
              "25%            0.300000    0.000000  \n",
              "50%            1.300000    1.000000  \n",
              "75%            1.800000    2.000000  \n",
              "max            2.500000    2.000000  "
            ]
          },
          "execution_count": 18,
          "metadata": {},
          "output_type": "execute_result"
        }
      ],
      "source": [
        "df.info()\n",
        "df.describe()"
      ]
    },
    {
      "cell_type": "markdown",
      "metadata": {
        "id": "AHgAqAmkt1HR"
      },
      "source": [
        "### About the dataset"
      ]
    },
    {
      "cell_type": "markdown",
      "metadata": {
        "id": "9rhWpFrHt1HR"
      },
      "source": [
        "The dataset has 150 total entries with 50 in each of the three classes. The dataset has no missing attributes. It has four numeric attributes that: sepal length (cm), sepal width (cm), petal length (cm) and petal width (cm). The target column, which describes the class of the speices, is called the label and the classes are represented as: 0 (Iris-Setosa), 1 (Iris-Versicolour) and 2 (Iris-Virginica)."
      ]
    },
    {
      "cell_type": "markdown",
      "metadata": {
        "id": "hjHZFYiyt1HR"
      },
      "source": [
        "## Part 2: Splitting the dataset into train and test"
      ]
    },
    {
      "cell_type": "code",
      "execution_count": null,
      "metadata": {
        "id": "2vzghKKBt1HR"
      },
      "outputs": [],
      "source": [
        "X = df[['sepal length (cm)', 'sepal width (cm)', 'petal length (cm)', 'petal width (cm)']]\n",
        "y = df['target']\n",
        "\n",
        "X_train, X_test, y_train, y_test = train_test_split(X, y, test_size=0.1, random_state=42)"
      ]
    },
    {
      "cell_type": "markdown",
      "metadata": {
        "id": "VyNG6q7mt1HR"
      },
      "source": [
        "## Part 3: Logistic Regression"
      ]
    },
    {
      "cell_type": "code",
      "execution_count": null,
      "metadata": {
        "id": "c5wjcJNat1HR",
        "outputId": "c92ca50a-646f-4691-be61-c6d513600d4e"
      },
      "outputs": [
        {
          "name": "stdout",
          "output_type": "stream",
          "text": [
            "The probability of belonging to class Iris-Setosa (0) is: 0.10031 \n",
            "The probability of belonging to class Iris-Versicolour (1) is: 0.88348 \n",
            "The probability of belonging to class Iris-Virginica (2) is: 0.01621 \n"
          ]
        }
      ],
      "source": [
        "L_reg = LogisticRegression(max_iter=200).fit(X_train, y_train)\n",
        "\n",
        "sample_x = np.array([[5.4, 3.7, 4, 1.1]])\n",
        "sample_y = L_reg.predict_proba(sample_x)[0]\n",
        "\n",
        "print(f\"The probability of belonging to class Iris-Setosa (0) is: {sample_y[0]:.5f} \")\n",
        "print(f\"The probability of belonging to class Iris-Versicolour (1) is: {sample_y[1]:.5f} \")\n",
        "print(f\"The probability of belonging to class Iris-Virginica (2) is: {sample_y[2]:.5f} \")\n"
      ]
    },
    {
      "cell_type": "code",
      "execution_count": null,
      "metadata": {
        "id": "-lbCtnIPt1HR",
        "outputId": "a9fc7e34-36a3-4b80-dae7-cc0830d86af0"
      },
      "outputs": [
        {
          "name": "stdout",
          "output_type": "stream",
          "text": [
            "Train score = 0.97778 and Test Score = 1.00000.\n"
          ]
        }
      ],
      "source": [
        "train_score = L_reg.score(X_train, y_train)\n",
        "test_score = L_reg.score(X_test, y_test)\n",
        "print(f\"Train score = {train_score:.5f} and Test Score = {test_score:.5f}.\")"
      ]
    },
    {
      "cell_type": "markdown",
      "metadata": {
        "id": "NcWkOEwot1HS"
      },
      "source": [
        "The model's accuracy is measured by the score. The train score is very close to one, indicating that the model has a high accuracy score and can accurately predict the majority of the labels. The model's test score is 1, indicating that it consistently generates perfect predictions."
      ]
    },
    {
      "cell_type": "code",
      "execution_count": null,
      "metadata": {
        "id": "ZROjXyrtt1HS",
        "outputId": "c01cbb4a-55de-430b-89d2-0064569c4153"
      },
      "outputs": [
        {
          "name": "stdout",
          "output_type": "stream",
          "text": [
            "Coefficents: \n",
            "[[-0.42671353  0.9728761  -2.44456411 -1.03191934]\n",
            " [ 0.51313854 -0.2238593  -0.21516952 -0.85167281]\n",
            " [-0.08642502 -0.74901679  2.65973363  1.88359215]]\n",
            "\n",
            "Intercepts: \n",
            "[  9.50022538   1.91272796 -11.41295334]\n"
          ]
        }
      ],
      "source": [
        "print(f\"Coefficents: \\n{L_reg.coef_}\\n\")\n",
        "print(f\"Intercepts: \\n{L_reg.intercept_}\")"
      ]
    },
    {
      "cell_type": "markdown",
      "metadata": {
        "id": "xaL-wPbEt1HS"
      },
      "source": [
        "## Part 4: Support Vector Machine"
      ]
    },
    {
      "cell_type": "code",
      "execution_count": null,
      "metadata": {
        "id": "RmlYM1W9t1HS"
      },
      "outputs": [],
      "source": [
        "sup_vec = SVC(probability=True, random_state=42).fit(X_train, y_train)"
      ]
    },
    {
      "cell_type": "code",
      "execution_count": null,
      "metadata": {
        "id": "4CAPsGZst1HS",
        "outputId": "55b97211-4de4-4ad2-b39d-fb8a1bf132f3"
      },
      "outputs": [
        {
          "name": "stdout",
          "output_type": "stream",
          "text": [
            "The probability of belonging to class Iris-Setosa (0) is: 0.04469 \n",
            "The probability of belonging to class Iris-Versicolour (1) is: 0.94453 \n",
            "The probability of belonging to class Iris-Virginica (2) is: 0.01078 \n"
          ]
        }
      ],
      "source": [
        "sample_x = np.array([[5.4, 3.7, 4, 1.1]])\n",
        "sample_y = sup_vec.predict_proba(sample_x)[0]\n",
        "print(f\"The probability of belonging to class Iris-Setosa (0) is: {sample_y[0]:.5f} \")\n",
        "print(f\"The probability of belonging to class Iris-Versicolour (1) is: {sample_y[1]:.5f} \")\n",
        "print(f\"The probability of belonging to class Iris-Virginica (2) is: {sample_y[2]:.5f} \")"
      ]
    },
    {
      "cell_type": "code",
      "execution_count": null,
      "metadata": {
        "id": "fHbHA1nZt1HS",
        "outputId": "374f2bfc-e83f-4e1d-ab02-2f7878c030ee"
      },
      "outputs": [
        {
          "name": "stdout",
          "output_type": "stream",
          "text": [
            "Train score = 0.97037 and Test Score = 1.00000.\n"
          ]
        }
      ],
      "source": [
        "train_score = sup_vec.score(X_train, y_train)\n",
        "test_score = sup_vec.score(X_test, y_test)\n",
        "print(f\"Train score = {train_score:.5f} and Test Score = {test_score:.5f}.\")"
      ]
    },
    {
      "cell_type": "markdown",
      "metadata": {
        "id": "r_XifZxit1HT"
      },
      "source": [
        "The model's accuracy is measured by the score. The train score is very close to one same as for Logistic Regression, indicating that the model has a high accuracy score and can accurately predict the majority of the labels. The model's test score is 1, indicating that it consistently generates perfect predictions."
      ]
    },
    {
      "cell_type": "markdown",
      "metadata": {
        "id": "lZx6iJOQt1HT"
      },
      "source": [
        "## Part 5: Neural Network"
      ]
    },
    {
      "cell_type": "code",
      "execution_count": null,
      "metadata": {
        "id": "Nqw0zVD4t1HT"
      },
      "outputs": [],
      "source": [
        "neural_net = MLPClassifier(max_iter=600, random_state=42).fit(X_train, y_train)"
      ]
    },
    {
      "cell_type": "code",
      "execution_count": null,
      "metadata": {
        "id": "Tx5WaGYzt1HU",
        "outputId": "8205e049-415f-4d86-8d09-58500f0daa47"
      },
      "outputs": [
        {
          "name": "stdout",
          "output_type": "stream",
          "text": [
            "The probability of belonging to class Iris-Setosa (0) is: 0.03112 \n",
            "The probability of belonging to class Iris-Versicolour (1) is: 0.96877 \n",
            "The probability of belonging to class Iris-Virginica (2) is: 0.00011 \n"
          ]
        }
      ],
      "source": [
        "sample_x = np.array([[5.4, 3.7, 4, 1.1]])\n",
        "sample_y = neural_net.predict_proba(sample_x)[0]\n",
        "print(f\"The probability of belonging to class Iris-Setosa (0) is: {sample_y[0]:.5f} \")\n",
        "print(f\"The probability of belonging to class Iris-Versicolour (1) is: {sample_y[1]:.5f} \")\n",
        "print(f\"The probability of belonging to class Iris-Virginica (2) is: {sample_y[2]:.5f} \")"
      ]
    },
    {
      "cell_type": "code",
      "execution_count": null,
      "metadata": {
        "id": "4Y2HiJaOt1HU",
        "outputId": "6ae53f69-33a6-4a39-b3cd-d28303330783"
      },
      "outputs": [
        {
          "name": "stdout",
          "output_type": "stream",
          "text": [
            "Train score = 0.98519 and Test Score = 1.00000.\n"
          ]
        }
      ],
      "source": [
        "train_score = neural_net.score(X_train, y_train)\n",
        "test_score = neural_net.score(X_test, y_test)\n",
        "print(f\"Train score = {train_score:.5f} and Test Score = {test_score:.5f}.\")"
      ]
    },
    {
      "cell_type": "markdown",
      "metadata": {
        "id": "IFUG6Oqst1HU"
      },
      "source": [
        "The model's accuracy is measured by the score. The train score is very close to one same as the ones before, indicating that the model has a high accuracy score and can accurately predict the majority of the labels. The model's test score is 1, indicating that it consistently generates perfect predictions."
      ]
    },
    {
      "cell_type": "code",
      "execution_count": null,
      "metadata": {
        "id": "QCnprGH8t1HU",
        "outputId": "a64b0aa7-16a9-4ba0-aea0-7692635d6564"
      },
      "outputs": [
        {
          "name": "stdout",
          "output_type": "stream",
          "text": [
            "Train score = 0.98519 and Test Score = 1.00000.\n"
          ]
        }
      ],
      "source": [
        "diff_neural_net = MLPClassifier(max_iter=1000,random_state=42).fit(X_train, y_train)\n",
        "new_train_score = diff_neural_net.score(X_train, y_train)\n",
        "new_test_score = diff_neural_net.score(X_test, y_test)\n",
        "print(f\"Train score = {new_train_score:.5f} and Test Score = {new_test_score:.5f}.\")"
      ]
    },
    {
      "cell_type": "markdown",
      "metadata": {
        "id": "jjEPxtZ0t1HU"
      },
      "source": [
        "## Part 6: K-Nearest Neighbors"
      ]
    },
    {
      "cell_type": "code",
      "execution_count": null,
      "metadata": {
        "id": "HZtVEXeyt1HU"
      },
      "outputs": [],
      "source": [
        "k_nn = KNeighborsClassifier().fit(X_train, y_train)"
      ]
    },
    {
      "cell_type": "code",
      "execution_count": null,
      "metadata": {
        "id": "MfLTxvBPt1HU",
        "outputId": "1b8f9f66-6ced-4766-cf33-2890032486a0"
      },
      "outputs": [
        {
          "name": "stdout",
          "output_type": "stream",
          "text": [
            "The probability of belonging to class Iris-Setosa (0) is: 0.00000 \n",
            "The probability of belonging to class Iris-Versicolour (1) is: 1.00000 \n",
            "The probability of belonging to class Iris-Virginica (2) is: 0.00000 \n"
          ]
        }
      ],
      "source": [
        "sample_x = np.array([[5.4, 3.7, 4, 1.1]])\n",
        "sample_y = k_nn.predict_proba(sample_x)[0]\n",
        "print(f\"The probability of belonging to class Iris-Setosa (0) is: {sample_y[0]:.5f} \")\n",
        "print(f\"The probability of belonging to class Iris-Versicolour (1) is: {sample_y[1]:.5f} \")\n",
        "print(f\"The probability of belonging to class Iris-Virginica (2) is: {sample_y[2]:.5f} \")"
      ]
    },
    {
      "cell_type": "code",
      "execution_count": null,
      "metadata": {
        "id": "GgTNgnont1HU",
        "outputId": "e3579b99-d596-4d5c-919e-b7c94f19e1d3"
      },
      "outputs": [
        {
          "name": "stdout",
          "output_type": "stream",
          "text": [
            "Train score = 0.97037 and Test Score = 1.00000.\n"
          ]
        }
      ],
      "source": [
        "train_score = k_nn.score(X_train, y_train)\n",
        "test_score = k_nn.score(X_test, y_test)\n",
        "print(f\"Train score = {train_score:.5f} and Test Score = {test_score:.5f}.\")"
      ]
    },
    {
      "cell_type": "markdown",
      "metadata": {
        "id": "vgqIAIFit1HV"
      },
      "source": [
        "The model's accuracy is measured by the score. The train score is very close to one same as the ones before, indicating that the model has a high accuracy score and can accurately predict the majority of the labels. The model's test score is 1, indicating that it consistently generates perfect predictions."
      ]
    },
    {
      "cell_type": "markdown",
      "metadata": {
        "id": "PRre0w_it1HV"
      },
      "source": [
        "## Part 7: Conclusions and takeaways\n"
      ]
    },
    {
      "cell_type": "markdown",
      "metadata": {
        "id": "12PbXY0nt1HV"
      },
      "source": [
        "On the dataset, all of the models turned out to be fairly good. One reason could be because the features have a strong relationship with the label, allowing the models to perform better. Because it had the greatest train and test scores, the Netural Network classifier performed the best on the dataset. One reason could be that the Netural Network classifier generated a more complex model rather than a simple linear model, resulting in a superior classifier. I was really surprised by the fact that all of the models received a score of one. This could be due to the limited size of the test set, with all projected labels matching the genuine labels."
      ]
    }
  ],
  "metadata": {
    "interpreter": {
      "hash": "3067ead486e059ec00ffe7555bdb889e6e264a24dc711bf108106cc7baee8d5d"
    },
    "kernelspec": {
      "display_name": "Python 3.9.7 ('base')",
      "language": "python",
      "name": "python3"
    },
    "language_info": {
      "codemirror_mode": {
        "name": "ipython",
        "version": 3
      },
      "file_extension": ".py",
      "mimetype": "text/x-python",
      "name": "python",
      "nbconvert_exporter": "python",
      "pygments_lexer": "ipython3",
      "version": "3.9.7"
    },
    "orig_nbformat": 4,
    "colab": {
      "name": "Sherpa_Dawa_AS04.ipynb",
      "provenance": []
    }
  },
  "nbformat": 4,
  "nbformat_minor": 0
}